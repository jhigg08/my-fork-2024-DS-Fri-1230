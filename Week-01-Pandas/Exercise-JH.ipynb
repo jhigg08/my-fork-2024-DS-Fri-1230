{
 "cells": [
  {
   "cell_type": "markdown",
   "metadata": {},
   "source": [
    "# First print your name in the cell below then save this file. (or something nice about your instructor)"
   ]
  },
  {
   "cell_type": "code",
   "execution_count": 1,
   "metadata": {},
   "outputs": [
    {
     "name": "stdout",
     "output_type": "stream",
     "text": [
      "Jake H\n",
      "Zach and Georgios are the best\n"
     ]
    }
   ],
   "source": [
    "# In this cell print your name \n",
    "print('Jake H')\n",
    "print('Zach and Georgios are the best')\n"
   ]
  },
  {
   "cell_type": "markdown",
   "metadata": {},
   "source": [
    "# Data wrangling with Pandas exercise\n",
    "* For this exercise we will be using the `listings.csv` data file."
   ]
  },
  {
   "cell_type": "code",
   "execution_count": 2,
   "metadata": {},
   "outputs": [],
   "source": [
    "import pandas as pd\n",
    "import numpy as np"
   ]
  },
  {
   "cell_type": "markdown",
   "metadata": {},
   "source": [
    "# Load in the data file using `pd.read_csv()`"
   ]
  },
  {
   "cell_type": "code",
   "execution_count": 4,
   "metadata": {},
   "outputs": [],
   "source": [
    "# Load data here\n",
    "data = pd.read_csv('data/listings.csv')"
   ]
  },
  {
   "cell_type": "markdown",
   "metadata": {},
   "source": [
    "## Exercise 2 - Filtering\n",
    "\n",
    "Return the following subsets of the dataframe.\n",
    "\n",
    "1. How many listings are there with a price less than 100? \n",
    "\n",
    "\n",
    "2. Find how many listings there are in just Brooklyn.\n",
    "\n",
    "\n",
    "3. Find how many listings there are in Brooklyn with a price less than 100.\n",
    "\n",
    "\n",
    "4. Using `.isin()` select anyone that has the host name of Michael, David, John, and Daniel.\n",
    "\n",
    "\n",
    "5. Create a new column called `adjusted_price` that has $100 added to every listing in Williamsburg.  The prices for all other listings should be the same as the were before. \n",
    "\n",
    "\n",
    "6. What % of the rooms are private, and what % of the rooms are shared.  \n",
    "    * Hint, use `.value_counts()`\n"
   ]
  },
  {
   "cell_type": "code",
   "execution_count": 5,
   "metadata": {},
   "outputs": [
    {
     "name": "stdout",
     "output_type": "stream",
     "text": [
      "22778\n"
     ]
    }
   ],
   "source": [
    "# 1. How many listings are there with a price less than 100? \n",
    "list_under_100 = data[data['price'] < 100]\n",
    "\n",
    "count_under_100 = list_under_100.shape[0]\n",
    "print(count_under_100)\n"
   ]
  },
  {
   "cell_type": "code",
   "execution_count": 7,
   "metadata": {},
   "outputs": [
    {
     "name": "stdout",
     "output_type": "stream",
     "text": [
      "18632\n"
     ]
    }
   ],
   "source": [
    "# 2. Make a new DataFrame of listings in Brooklyn named `df_bk` \n",
    "# and find how many listings in just Brooklyn.\n",
    "df_bk = data[data['neighbourhood_group'] == 'Brooklyn']\n",
    "\n",
    "count_brooklyn = df_bk.shape[0]\n",
    "print(count_brooklyn)"
   ]
  },
  {
   "cell_type": "code",
   "execution_count": 8,
   "metadata": {},
   "outputs": [
    {
     "name": "stdout",
     "output_type": "stream",
     "text": [
      "10473\n"
     ]
    }
   ],
   "source": [
    "# 3. Find how many listings there are in Brooklyn with a price less than 100.\n",
    "brooklyn_under_100 = df_bk[df_bk['price'] < 100]\n",
    "\n",
    "count_brooklyn_under_100 = brooklyn_under_100.shape[0]\n",
    "print(count_brooklyn_under_100)\n"
   ]
  },
  {
   "cell_type": "code",
   "execution_count": 18,
   "metadata": {},
   "outputs": [
    {
     "name": "stdout",
     "output_type": "stream",
     "text": [
      "        id                                               name  host_id  \\\n",
      "52   16595  LOFT HAVEN ~ Six Windows ~ Bricks ~ Plants ~ Q...    64522   \n",
      "201  61747              Cozy,  Brooklyn, Prospect Park Studio   299370   \n",
      "209  62903  Beautiful modern studio apartment in heart of NYC   306605   \n",
      "220  64015                       Prime East Village 1 Bedroom   146944   \n",
      "260  74073       Food & Music Dream Apartment in Williamsburg   211877   \n",
      "\n",
      "    host_name neighbourhood_group              neighbourhood  latitude  \\\n",
      "52     Daniel            Brooklyn               Williamsburg  40.70933   \n",
      "201     David            Brooklyn  Prospect-Lefferts Gardens  40.65979   \n",
      "209    Daniel           Manhattan                    Chelsea  40.74238   \n",
      "220     David           Manhattan               East Village  40.72807   \n",
      "260    Daniel            Brooklyn               Williamsburg  40.71113   \n",
      "\n",
      "     longitude        room_type  price  minimum_nights  number_of_reviews  \\\n",
      "52   -73.96792  Entire home/apt    271               1                172   \n",
      "201  -73.96180  Entire home/apt     91              14                 97   \n",
      "209  -73.99567  Entire home/apt    205              15                 68   \n",
      "220  -73.98594  Entire home/apt    200               3                  0   \n",
      "260  -73.96054  Entire home/apt    187              30                 90   \n",
      "\n",
      "    last_review  reviews_per_month  calculated_host_listings_count  \\\n",
      "52   2020-07-14               1.44                               1   \n",
      "201  2018-01-31               0.83                               1   \n",
      "209  2019-12-14               0.67                               2   \n",
      "220         NaN                NaN                               1   \n",
      "260  2020-07-31               0.81                               1   \n",
      "\n",
      "     availability_365  adjusted_price  \n",
      "52                365             371  \n",
      "201                44              91  \n",
      "209                89             205  \n",
      "220                 0             200  \n",
      "260               261             287  \n",
      "Total listings with those names is: 1258\n"
     ]
    }
   ],
   "source": [
    "# 4. Using `.isin()` select anyone that has the host name of Michael, David, John, and Daniel.\n",
    "# How many total are there that have those names\n",
    "host_name = ['Michael', 'David', 'John', 'Daniel']\n",
    "named_hosts = data[data['host_name'].isin(host_name)]\n",
    "\n",
    "print(named_hosts.head())\n",
    "\n",
    "total_listings = named_hosts.shape[0]\n",
    "print(f\"Total listings with those names is: {total_listings}\")\n"
   ]
  },
  {
   "cell_type": "code",
   "execution_count": 16,
   "metadata": {},
   "outputs": [
    {
     "name": "stdout",
     "output_type": "stream",
     "text": [
      "      neighbourhood  price  adjusted_price\n",
      "11     Williamsburg    109             209\n",
      "15     Williamsburg    299             399\n",
      "35     Williamsburg    131             231\n",
      "38     Williamsburg    175             275\n",
      "42     Williamsburg     80             180\n",
      "...             ...    ...             ...\n",
      "46484  Williamsburg    250             350\n",
      "46489  Williamsburg    464             564\n",
      "46493  Williamsburg    100             200\n",
      "46513  Williamsburg    180             280\n",
      "46517  Williamsburg     55             155\n",
      "\n",
      "[3486 rows x 3 columns]\n"
     ]
    }
   ],
   "source": [
    "# 5. Create a new column called `adjusted_price` that has $100 added to every listing in Williamsburg.  \n",
    "# The prices for all other listings should be the same as the were before. \n",
    "data['adjusted_price'] = data['price']\n",
    "\n",
    "data.loc[data['neighbourhood'] == 'Williamsburg', 'adjusted_price'] += 100\n",
    "\n",
    "williamsbrug_only = data[data['neighbourhood'] == 'Williamsburg']\n",
    "##print(data[['neighbourhood', 'price', 'adjusted_price']].head())\n",
    "\n",
    "print(williamsbrug_only[['neighbourhood', 'price', 'adjusted_price']])"
   ]
  },
  {
   "cell_type": "code",
   "execution_count": 19,
   "metadata": {},
   "outputs": [
    {
     "name": "stdout",
     "output_type": "stream",
     "text": [
      "room_type\n",
      "Entire home/apt    51.578653\n",
      "Private room       45.444581\n",
      "Shared room         2.121349\n",
      "Hotel room          0.855417\n",
      "Name: proportion, dtype: float64\n"
     ]
    }
   ],
   "source": [
    "# 6. What % of the rooms are private, and what % of the rooms are shared.  \n",
    "room_count = data['room_type'].value_counts(normalize=True) * 100\n",
    "\n",
    "print(room_count)\n",
    "\n",
    "\n"
   ]
  },
  {
   "cell_type": "markdown",
   "metadata": {},
   "source": [
    "# Exercise 3 - Grouping\n",
    "\n",
    "1. Using `groupby`, count how many listings are in each neighbourhood_group.\n",
    "\n",
    "\n",
    "2. Using `groupby`, find the mean price for each of the neighbourhood_groups. \n",
    "\n",
    "\n",
    "3. Using `groupby` and `.agg()`, find the min and max price for each of the neighbourhood_groups. \n",
    "\n",
    "\n",
    "4. Using `groupby`, find the median price for each room type in each neighbourhood_group.\n",
    "\n",
    "\n",
    "5. Using `groupby` and `.agg()`, find the count, min, max, mean, median, and std of the prices for each room type in each neighbourhood_group."
   ]
  },
  {
   "cell_type": "code",
   "execution_count": 21,
   "metadata": {},
   "outputs": [
    {
     "name": "stdout",
     "output_type": "stream",
     "text": [
      "neighbourhood_group\n",
      "Bronx             1183\n",
      "Brooklyn         18632\n",
      "Manhattan        20580\n",
      "Queens            5791\n",
      "Staten Island      341\n",
      "Name: id, dtype: int64\n"
     ]
    }
   ],
   "source": [
    "# 1. Using `groupby`, count how many listings are in each neighbourhood_group.\n",
    "neighbourhood_group_count = data.groupby('neighbourhood_group')['id'].count()\n",
    "\n",
    "print(neighbourhood_group_count)\n",
    "\n"
   ]
  },
  {
   "cell_type": "code",
   "execution_count": 22,
   "metadata": {},
   "outputs": [
    {
     "name": "stdout",
     "output_type": "stream",
     "text": [
      "neighbourhood_group\n",
      "Bronx             92.751479\n",
      "Brooklyn         120.225258\n",
      "Manhattan        191.880466\n",
      "Queens            99.754965\n",
      "Staten Island    110.947214\n",
      "Name: price, dtype: float64\n"
     ]
    }
   ],
   "source": [
    "# 2. Using `groupby`, find the mean price for each of the neighbourhood_groups. \n",
    "mean_price = data.groupby('neighbourhood_group')['price'].mean()\n",
    "\n",
    "print(mean_price)"
   ]
  },
  {
   "cell_type": "code",
   "execution_count": 23,
   "metadata": {},
   "outputs": [
    {
     "name": "stdout",
     "output_type": "stream",
     "text": [
      "room_type\n",
      "Entire home/apt    199.395950\n",
      "Hotel room         275.015075\n",
      "Private room        91.453084\n",
      "Shared room         87.063830\n",
      "Name: price, dtype: float64\n"
     ]
    }
   ],
   "source": [
    "# 2.5. Using `groupby`, find the mean price for each room_type. \n",
    "mean_price_room = data.groupby('room_type')['price'].mean()\n",
    "\n",
    "print(mean_price_room)"
   ]
  },
  {
   "cell_type": "code",
   "execution_count": 24,
   "metadata": {},
   "outputs": [
    {
     "name": "stdout",
     "output_type": "stream",
     "text": [
      "                     min    max\n",
      "neighbourhood_group            \n",
      "Bronx                 16   1404\n",
      "Brooklyn               0  10000\n",
      "Manhattan              0  10000\n",
      "Queens                 0  10000\n",
      "Staten Island         19   1200\n"
     ]
    }
   ],
   "source": [
    "# 3. Using `groupby` and `.agg()`, find the min and max price for each of the neighbourhood_groups. \n",
    "min_max_price = data.groupby('neighbourhood_group')['price'].agg(['min', 'max'])\n",
    "\n",
    "print(min_max_price)"
   ]
  },
  {
   "cell_type": "code",
   "execution_count": 26,
   "metadata": {},
   "outputs": [
    {
     "name": "stdout",
     "output_type": "stream",
     "text": [
      "neighbourhood_group  room_type      \n",
      "Bronx                Entire home/apt    103.0\n",
      "                     Private room        55.0\n",
      "                     Shared room         44.0\n",
      "Brooklyn             Entire home/apt    135.0\n",
      "                     Hotel room         129.0\n",
      "                     Private room        60.0\n",
      "                     Shared room         36.0\n",
      "Manhattan            Entire home/apt    165.0\n",
      "                     Hotel room         210.0\n",
      "                     Private room        80.0\n",
      "                     Shared room         60.0\n",
      "Queens               Entire home/apt    115.0\n",
      "                     Hotel room         149.0\n",
      "                     Private room        55.0\n",
      "                     Shared room         40.0\n",
      "Staten Island        Entire home/apt    111.0\n",
      "                     Private room        55.0\n",
      "                     Shared room         38.0\n",
      "Name: price, dtype: float64\n",
      "neighbourhood_group  room_type      \n",
      "Bronx                Entire home/apt    138.004819\n",
      "                     Private room        68.419668\n",
      "                     Shared room         66.391304\n",
      "Brooklyn             Entire home/apt    171.587687\n",
      "                     Hotel room         147.300000\n",
      "                     Private room        71.291189\n",
      "                     Shared room         57.870091\n",
      "Manhattan            Entire home/apt    231.335572\n",
      "                     Hotel room         292.515670\n",
      "                     Private room       128.277069\n",
      "                     Shared room        111.735084\n",
      "Queens               Entire home/apt    150.168900\n",
      "                     Hotel room         139.058824\n",
      "                     Private room        69.972564\n",
      "                     Shared room         89.891892\n",
      "Staten Island        Entire home/apt    151.720930\n",
      "                     Private room        70.312883\n",
      "                     Shared room         46.000000\n",
      "Name: price, dtype: float64\n"
     ]
    }
   ],
   "source": [
    "# 4. Using `groupby`, find the mean price for each room_type in each neighbourhood_group.\n",
    "median_room = data.groupby(['neighbourhood_group','room_type'])['price'].median()\n",
    "mean_room_neighbourhood = data.groupby(['neighbourhood_group','room_type'])['price'].mean()\n",
    "print(median_room)\n",
    "print(mean_room_neighbourhood)"
   ]
  },
  {
   "cell_type": "code",
   "execution_count": 27,
   "metadata": {},
   "outputs": [
    {
     "name": "stdout",
     "output_type": "stream",
     "text": [
      "                                     count  min    max        mean  median  \\\n",
      "neighbourhood_group room_type                                                \n",
      "Bronx               Entire home/apt    415   25   1404  138.004819   103.0   \n",
      "                    Private room       722   16    700   68.419668    55.0   \n",
      "                    Shared room         46   20    800   66.391304    44.0   \n",
      "Brooklyn            Entire home/apt   9112   20  10000  171.587687   135.0   \n",
      "                    Hotel room          30    0    399  147.300000   129.0   \n",
      "                    Private room      9159   10   2500   71.291189    60.0   \n",
      "                    Shared room        331   15   1500   57.870091    36.0   \n",
      "Manhattan           Entire home/apt  12209    0  10000  231.335572   165.0   \n",
      "                    Hotel room         351    0   2211  292.515670   210.0   \n",
      "                    Private room      7601   10  10000  128.277069    80.0   \n",
      "                    Shared room        419   10  10000  111.735084    60.0   \n",
      "Queens              Entire home/apt   2090   10  10000  150.168900   115.0   \n",
      "                    Hotel room          17    0    249  139.058824   149.0   \n",
      "                    Private room      3499   18   9000   69.972564    55.0   \n",
      "                    Shared room        185   14   3000   89.891892    40.0   \n",
      "Staten Island       Entire home/apt    172   39   1200  151.720930   111.0   \n",
      "                    Private room       163   20    800   70.312883    55.0   \n",
      "                    Shared room          6   19     82   46.000000    38.0   \n",
      "\n",
      "                                            std  \n",
      "neighbourhood_group room_type                    \n",
      "Bronx               Entire home/apt  126.032106  \n",
      "                    Private room      57.337866  \n",
      "                    Shared room      114.442703  \n",
      "Brooklyn            Entire home/apt  236.732843  \n",
      "                    Hotel room        91.153206  \n",
      "                    Private room      69.023165  \n",
      "                    Shared room       92.217618  \n",
      "Manhattan           Entire home/apt  410.306439  \n",
      "                    Hotel room       315.924085  \n",
      "                    Private room     448.677306  \n",
      "                    Shared room      502.728868  \n",
      "Queens              Entire home/apt  252.606739  \n",
      "                    Hotel room        50.743806  \n",
      "                    Private room     163.814468  \n",
      "                    Shared room      275.675158  \n",
      "Staten Island       Entire home/apt  147.518392  \n",
      "                    Private room      70.759593  \n",
      "                    Shared room       28.446441  \n"
     ]
    }
   ],
   "source": [
    "# 5. Using `groupby` and `.agg()`, find the count, min, max, mean, median, and std of the prices \n",
    "# for each room type in each neighbourhood_group.\n",
    "all_prices = data.groupby(['neighbourhood_group', 'room_type'])['price'].agg(\n",
    "    count = 'count',\n",
    "    min = 'min',\n",
    "    max = 'max',\n",
    "    mean = 'mean',\n",
    "    median = 'median',\n",
    "    std = 'std'\n",
    ")\n",
    "\n",
    "print(all_prices)\n",
    "\n",
    "\n"
   ]
  },
  {
   "cell_type": "markdown",
   "metadata": {},
   "source": [
    "# Load, Merge, and Export files.\n",
    "1. Load the `prices.csv` and the `n_listings.csv`\n",
    "    * Having an error..? Inspect the actual csv file if you're having trouble\n",
    "\n",
    "2. Do join that keeps all the records for each table.\n",
    "    * Neighbourhood groups should include ['Bronx', 'Brooklyn', 'Manhattan', 'Queens', 'Staten Island',\n",
    "       'LongIsland']\n",
    "\n",
    "       \n",
    "3. Save your joined csv as `joined.csv` into the data folder. \n",
    "\n",
    "\n",
    "4. Load your saved table and see if it looks the same or different that the DataFrame you used to create it. "
   ]
  },
  {
   "cell_type": "code",
   "execution_count": 39,
   "metadata": {},
   "outputs": [],
   "source": [
    "# 1. Load the `prices.csv` and the `n_listings.csv`\n",
    "prices = pd.read_csv('data/prices.csv')\n",
    "n_listings = pd.read_csv('data/n_listings.csv')"
   ]
  },
  {
   "cell_type": "code",
   "execution_count": 40,
   "metadata": {},
   "outputs": [
    {
     "name": "stdout",
     "output_type": "stream",
     "text": [
      "<bound method NDFrame.head of   neighbourhood_group   mean_price   n_listings\n",
      "0               Bronx    92.751479          NaN\n",
      "1         Bronx; 1183          NaN          NaN\n",
      "2            Brooklyn   120.225258          NaN\n",
      "3     Brooklyn; 18632          NaN          NaN\n",
      "4    LongIsland; 4121          NaN          NaN\n",
      "5           Manhattan   191.880466          NaN\n",
      "6    Manhattan; 20580          NaN          NaN\n",
      "7              Queens    99.754965          NaN\n",
      "8       Staten Island   110.947214          NaN>\n"
     ]
    }
   ],
   "source": [
    "# 2. Do join that keeps all the records for each table.\n",
    "join_data = pd.merge(prices, n_listings, on='neighbourhood_group', how = 'outer')\n",
    "required_neighbourhood_groups = ['Bronx', 'Brooklyn', 'Manhattan', 'Queens', 'Staten Island', 'LongIsland']\n",
    "\n",
    "print(join_data.head)\n",
    "\n",
    "#print(prices.columns)\n",
    "#print(n_listings.columns)"
   ]
  },
  {
   "cell_type": "code",
   "execution_count": 41,
   "metadata": {},
   "outputs": [],
   "source": [
    "# 3. Save your joined csv as `joined.csv` into the data folder. \n",
    "join_data.to_csv('data/joined.csv', index=False)"
   ]
  },
  {
   "cell_type": "code",
   "execution_count": 42,
   "metadata": {},
   "outputs": [
    {
     "name": "stdout",
     "output_type": "stream",
     "text": [
      "  neighbourhood_group   mean_price   n_listings\n",
      "0               Bronx    92.751479          NaN\n",
      "1         Bronx; 1183          NaN          NaN\n",
      "2            Brooklyn   120.225258          NaN\n",
      "3     Brooklyn; 18632          NaN          NaN\n",
      "4    LongIsland; 4121          NaN          NaN\n"
     ]
    }
   ],
   "source": [
    "# 4. Load your newly saved file, see if it looks the same.  If not, try saving with argument `index=False`\n",
    "loaded_join_data = pd.read_csv('data/joined.csv')\n",
    "print(loaded_join_data.head())"
   ]
  },
  {
   "cell_type": "markdown",
   "metadata": {},
   "source": [
    "# Extra Credit\n",
    "Every question below this cell is extra credit and optional."
   ]
  },
  {
   "cell_type": "markdown",
   "metadata": {},
   "source": [
    "### 1. (Easy) Explore this new PandasAI Package and tell me what its all about because I've never used it. \n",
    "* https://www.youtube.com/watch?v=5w6eZaoDVVk&ab_channel=CodingIsFun  \n",
    "* See if you can use it on the listings.csv to find out some cool info. or answer some of the questions above. "
   ]
  },
  {
   "cell_type": "markdown",
   "metadata": {},
   "source": [
    "### 2. (Very Easy) Find other cool Panda packages / add ons and show us what they can do well. And how you installed them. "
   ]
  },
  {
   "cell_type": "markdown",
   "metadata": {},
   "source": [
    "### 3. (Medium) Use the grammys.csv data for the next section of questions.\n",
    "\n",
    "1. Who was won Album of the Year in 2016?\n",
    "\n",
    "\n",
    "2. Who won Best Rap Album in 2009?\n",
    "\n",
    "\n",
    "3. How many awards was Kendrick Lamar nomiated for, and how many did he win...?"
   ]
  },
  {
   "cell_type": "markdown",
   "metadata": {},
   "source": [
    "### (Hard) Load the Game Logs for 2022 and add the column names using a dictionary.  \n",
    "* [Link to the data page](https://www.retrosheet.org/gamelogs/)\n",
    "* [Link to the column names](https://procatinator.com/)\n",
    "* haha, gotta find them yourself!"
   ]
  },
  {
   "cell_type": "markdown",
   "metadata": {},
   "source": [
    "### (Extra Hard) Download the files for the past 5 years into a new folder and add them all into one data frame using pandas, then save that new file.\n",
    "* Try to not hard code in the file names. We want to do this programmatically because what if we want to add new/more file names in the future."
   ]
  },
  {
   "cell_type": "code",
   "execution_count": null,
   "metadata": {},
   "outputs": [],
   "source": []
  }
 ],
 "metadata": {
  "kernelspec": {
   "display_name": "Python 3 (ipykernel)",
   "language": "python",
   "name": "python3"
  },
  "language_info": {
   "codemirror_mode": {
    "name": "ipython",
    "version": 3
   },
   "file_extension": ".py",
   "mimetype": "text/x-python",
   "name": "python",
   "nbconvert_exporter": "python",
   "pygments_lexer": "ipython3",
   "version": "3.12.4"
  }
 },
 "nbformat": 4,
 "nbformat_minor": 4
}
